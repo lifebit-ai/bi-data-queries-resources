{
 "cells": [
  {
   "cell_type": "markdown",
   "metadata": {},
   "source": [
    "# Running queries on the OMOP data\n",
    "\n",
    "## Install required packages\n",
    "\n",
    "Before executing the cells below, in a terminal session install the following required R packages:\n",
    "\n",
    "`conda create -n omop-source r-glue r-tidyverse r-data.table r-dbi  r-rpostgres r-irkernel -y`\n",
    "\n",
    "### Connect to the SQL database"
   ]
  },
  {
   "cell_type": "code",
   "execution_count": null,
   "metadata": {
    "vscode": {
     "languageId": "r"
    }
   },
   "outputs": [],
   "source": [
    "library(tidyverse)\n",
    "library(data.table)\n",
    "library(glue)\n",
    "library(DBI)\n",
    "library(RPostgres)\n",
    "\n",
    "DBNAME <- #\n",
    "HOST <- #\n",
    "PORT <- #\n",
    "PASSWORD <-  #\n",
    "USER <- 'jupyter_notebook'\n",
    "\n",
    "connection <- DBI::dbConnect(\n",
    "    RPostgres::Postgres(),\n",
    "    dbname = DBNAME,\n",
    "    host = HOST,\n",
    "    port = PORT,\n",
    "    password = PASSWORD,\n",
    "    user = USER,\n",
    "    )"
   ]
  },
  {
   "cell_type": "markdown",
   "metadata": {},
   "source": [
    "<br>  \n",
    "\n",
    "## Running a basic select query\n",
    "\n",
    "You can run queries using `dbGetQuery` and the `connection` created above. \n",
    "\n",
    "For example, to look at some fields from the OMOP `condition_occurrence` table:"
   ]
  },
  {
   "cell_type": "code",
   "execution_count": null,
   "metadata": {
    "vscode": {
     "languageId": "r"
    }
   },
   "outputs": [],
   "source": [
    "dbGetQuery(connection, \"\n",
    "    SELECT * FROM condition_occurrence LIMIT 5;\n",
    "\")"
   ]
  },
  {
   "cell_type": "markdown",
   "metadata": {},
   "source": [
    "<br>\n",
    "\n",
    "## Using the vocabulary tables\n",
    "\n",
    "To make sense of records from the tables containing clinical data it is vital to understand the contents of `_concept_id` columns. This was discussed in the first training session but information can be found [here](https://ohdsi.github.io/TheBookOfOhdsi/StandardizedVocabularies.html#concepts).\n",
    "\n",
    "### Searching the concept table\n",
    "\n",
    "To find the appropriate concepts, you can either use [ATHENA](https://athena.ohdsi.org/search-terms/start) or query the vocabulary tables loaded in the database:\n"
   ]
  },
  {
   "cell_type": "code",
   "execution_count": null,
   "metadata": {
    "vscode": {
     "languageId": "r"
    }
   },
   "outputs": [],
   "source": [
    "laryngeal_cancer_concept <- dbGetQuery(connection, \"\n",
    "    SELECT * \n",
    "    FROM concept \n",
    "    WHERE concept_name ilike '%primary malignant neoplasm of larynx%'\n",
    "    AND domain_id = 'Condition'\n",
    "    AND standard_concept = 'S'\n",
    "\")\n",
    "\n",
    "laryngeal_cancer_concept"
   ]
  },
  {
   "cell_type": "markdown",
   "metadata": {},
   "source": [
    "### Using concept set to query event tables"
   ]
  },
  {
   "cell_type": "code",
   "execution_count": null,
   "metadata": {
    "vscode": {
     "languageId": "r"
    }
   },
   "outputs": [],
   "source": [
    "query <- \"\n",
    "SELECT count(distinct person_id)\n",
    "FROM condition_occurrence\n",
    "WHERE condition_concept_id in ({concept_list})\n",
    "\"\n",
    "rendered_query <- glue(query, concept_list =  str_c(laryngeal_cancer_concept$concept_id, collapse = \", \"))\n",
    "\n",
    "dbGetQuery(connection, rendered_query)"
   ]
  },
  {
   "cell_type": "markdown",
   "metadata": {},
   "source": [
    "### Taking advantage of heirarchical vocabularies\n",
    "\n",
    "Find all patients with ear, nose, throat cancer without building a codelist by hand. Find the 'parent' concept:"
   ]
  },
  {
   "cell_type": "code",
   "execution_count": null,
   "metadata": {
    "vscode": {
     "languageId": "r"
    }
   },
   "outputs": [],
   "source": [
    "ent_cancer_concept <- dbGetQuery(connection, \"\n",
    "    SELECT * \n",
    "    FROM concept \n",
    "    WHERE concept_name ilike 'malignant tumor of ear, nose and throat'\n",
    "    AND domain_id = 'Condition'\n",
    "    AND standard_concept = 'S'\n",
    "\")\n",
    "\n",
    "ent_cancer_concept"
   ]
  },
  {
   "cell_type": "markdown",
   "metadata": {},
   "source": [
    "Then use `concept_ancestor` to find all 'children'"
   ]
  },
  {
   "cell_type": "code",
   "execution_count": null,
   "metadata": {
    "vscode": {
     "languageId": "r"
    }
   },
   "outputs": [],
   "source": [
    "query <- \"\n",
    "    SELECT count(distinct person_id)\n",
    "    FROM condition_occurrence co\n",
    "    INNER JOIN\n",
    "        (SELECT descendant_concept_id\n",
    "         FROM concept_ancestor\n",
    "         WHERE ancestor_concept_id IN ({parent_concepts})) ca on ca.descendant_concept_id = co.condition_concept_id\n",
    "\"\n",
    "\n",
    "rendered_query <- glue(query, parent_concepts =  str_c(ent_cancer_concept$concept_id, collapse = \", \"))\n",
    "\n",
    "dbGetQuery(connection, rendered_query)"
   ]
  },
  {
   "cell_type": "markdown",
   "metadata": {},
   "source": [
    "<br>  \n",
    "\n",
    "## More complicated queries \n",
    "\n",
    "### Example 1 (using one join)\n",
    "\n",
    "Find all male patients with primary malignant neoplasm of larynx. Use the same query as we used to count all laryngeal cancer patients, but include a join to `person` where `gender_concept_id` corresponds to [males](https://athena.ohdsi.org/search-terms/terms/8507)."
   ]
  },
  {
   "cell_type": "code",
   "execution_count": null,
   "metadata": {
    "vscode": {
     "languageId": "r"
    }
   },
   "outputs": [],
   "source": [
    "query <- \"\n",
    "    SELECT count(distinct co.person_id)\n",
    "    FROM condition_occurrence co\n",
    "    INNER JOIN person p on co.person_id = p.person_id\n",
    "    WHERE condition_concept_id IN ({concept_list})\n",
    "    AND gender_concept_id = 8507\n",
    "    LIMIT 5\n",
    "\"\n",
    "\n",
    "rendered_query <- glue(\n",
    "    query, \n",
    "    concept_list = str_c(laryngeal_cancer_concept$concept_id, collapse = \", \")\n",
    "    )\n",
    "\n",
    "dbGetQuery(connection, rendered_query)"
   ]
  },
  {
   "cell_type": "markdown",
   "metadata": {},
   "source": [
    "### Example 2 (using two joins)\n",
    "\n",
    "Find all male patients with primary malignant neoplasm of larynx was recorded in the [inpatient setting](https://athena.ohdsi.org/search-terms/terms/9201)."
   ]
  },
  {
   "cell_type": "code",
   "execution_count": null,
   "metadata": {
    "vscode": {
     "languageId": "r"
    }
   },
   "outputs": [],
   "source": [
    "query <- \"\n",
    "    SELECT count(distinct co.person_id)\n",
    "    FROM condition_occurrence co\n",
    "    INNER JOIN person p on co.person_id = p.person_id and gender_concept_id = 8507\n",
    "    INNER JOIN visit_occurrence vo on co.visit_occurrence_id = vo.visit_occurrence_id and vo.visit_concept_id = 9201\n",
    "    WHERE condition_concept_id IN ({concept_list})\n",
    "    LIMIT 5\n",
    "\"\n",
    "\n",
    "rendered_query <- glue(query, concept_list =  str_c(laryngeal_cancer_concept$concept_id, collapse = \", \"))\n",
    "\n",
    "dbGetQuery(connection, rendered_query)"
   ]
  },
  {
   "cell_type": "markdown",
   "metadata": {},
   "source": [
    "### Example 3 (with inclusion and exclusion criteria)\n",
    "\n",
    "Find all patients with ENT cancer **excluding** anyone who had laryngeal cancer."
   ]
  },
  {
   "cell_type": "code",
   "execution_count": null,
   "metadata": {
    "vscode": {
     "languageId": "r"
    }
   },
   "outputs": [],
   "source": [
    "query <- \"\n",
    "WITH\n",
    "    inclusion_criteria AS \n",
    "(\n",
    "    SELECT distinct person_id\n",
    "    FROM condition_occurrence co\n",
    "    INNER JOIN (\n",
    "        SELECT descendant_concept_id\n",
    "        FROM concept_ancestor\n",
    "        WHERE ancestor_concept_id IN ({concept_list_exclude})\n",
    "    ) ca on ca.descendant_concept_id = co.condition_concept_id \n",
    "),\n",
    "\n",
    "    exclusion_criteria AS\n",
    "(\n",
    "    SELECT distinct person_id\n",
    "    FROM condition_occurrence co\n",
    "    WHERE condition_concept_id IN ({concept_list_include})\n",
    ")   \n",
    "SELECT count(distinct person_id) FROM inclusion_criteria \n",
    "WHERE person_id not in (SELECT person_id FROM exclusion_criteria)\n",
    "\"\n",
    "\n",
    "rendered_query <- glue(query, \n",
    "                       concept_list_include =  str_c(laryngeal_cancer_concept$concept_id, collapse = \", \"),\n",
    "                       concept_list_exclude =  str_c(ent_cancer_concept$concept_id, collapse = \", \"))\n",
    "\n",
    "\n",
    "dbGetQuery(connection, rendered_query)"
   ]
  },
  {
   "cell_type": "markdown",
   "metadata": {},
   "source": [
    "### Example 4 (measurements and aggregate queries) \n",
    "\n",
    "Measurements are slightly different because they have a value as well as a concept_id. This is stored in either the `value_as_number`, `value_as_observation` or `value_as_string` columns.  \n",
    "\n",
    "The below looks for all measurements matching the pattern `%height%` and returns their average value grouped by units."
   ]
  },
  {
   "cell_type": "code",
   "execution_count": null,
   "metadata": {
    "vscode": {
     "languageId": "r"
    }
   },
   "outputs": [],
   "source": [
    "query <- \"\n",
    "    SELECT concept_name, vocabulary_id, concept_id, count(distinct person_id), unit_concept_id, unit_source_value, avg(value_as_number) \n",
    "    FROM measurement m\n",
    "    INNER JOIN concept c on m.measurement_concept_id = c.concept_id\n",
    "    WHERE concept_name ilike '%height%'\n",
    "    GROUP BY concept_name,vocabulary_id, concept_id, unit_concept_id, unit_source_value\n",
    "    ORDER BY count desc\n",
    "\"\n",
    "\n",
    "dbGetQuery(connection, query)"
   ]
  },
  {
   "cell_type": "markdown",
   "metadata": {},
   "source": [
    "### Example 5 (age of onset)\n",
    "\n",
    "Calculate age of onset by taking the min condition start date and then subtracting year of birth.\n",
    "\n",
    "**NOTE: there is a known bug in the data so year_of_birth is erroneous**"
   ]
  },
  {
   "cell_type": "code",
   "execution_count": null,
   "metadata": {
    "vscode": {
     "languageId": "r"
    }
   },
   "outputs": [],
   "source": [
    "query <- \"\n",
    "WITH CTE as (\n",
    "    SELECT person_id, min(condition_start_date) onset_date\n",
    "    FROM condition_occurrence\n",
    "    WHERE condition_concept_id in ({concept_list})\n",
    "    GROUP BY person_id\n",
    ")\n",
    "SELECT CTE.person_id, DATE_PART('year', onset_date) - p.year_of_birth as age_at_diagnosis\n",
    "FROM CTE \n",
    "LEFT JOIN person_fix p on CTE.person_id = p.person_id\n",
    "LIMIT 5\n",
    "\"\n",
    "rendered_query <- glue(query, concept_list =  str_c(laryngeal_cancer_concept$concept_id, collapse = \", \"))\n",
    "\n",
    "dbGetQuery(connection, rendered_query)"
   ]
  },
  {
   "cell_type": "markdown",
   "metadata": {},
   "source": [
    "### Example 6 (count number of diagnosis dates)"
   ]
  },
  {
   "cell_type": "code",
   "execution_count": null,
   "metadata": {
    "vscode": {
     "languageId": "r"
    }
   },
   "outputs": [],
   "source": [
    "query <- \"\n",
    "SELECT person_id, count(distinct condition_start_date) number_diagnoses\n",
    "FROM condition_occurrence\n",
    "WHERE condition_concept_id in ({concept_list})\n",
    "GROUP BY person_id\n",
    "ORDER BY number_diagnoses DESC\n",
    "LIMIT 5\n",
    "\"\n",
    "rendered_query <- glue(query, concept_list =  str_c(laryngeal_cancer_concept$concept_id, collapse = \", \"))\n",
    "\n",
    "dbGetQuery(connection, rendered_query)"
   ]
  },
  {
   "cell_type": "markdown",
   "metadata": {},
   "source": [
    "<br>  \n",
    "\n",
    "## Other ways to query\n",
    "\n",
    "If you don't like using SQL but like using `dplyr`, the `dbplyr` table allows you to use `dbplyr` sytax to render queries.\n"
   ]
  },
  {
   "cell_type": "code",
   "execution_count": null,
   "metadata": {
    "vscode": {
     "languageId": "r"
    }
   },
   "outputs": [],
   "source": [
    "suppressPackageStartupMessages(library(dbplyr))\n",
    "\n",
    "person <- tbl(connection, in_schema(\"omop_data_ukb_v1\", \"person\"))\n",
    "condition_occurrence <- tbl(connection, in_schema(\"omop_data_ukb_v1\", \"condition_occurrence\"))\n",
    "\n",
    "dbplyr_query <- condition_occurrence %>%\n",
    "    filter(condition_concept_id == 26052) %>%\n",
    "    inner_join(person, by = c(\"person_id\" = \"person_id\")) %>%\n",
    "    filter(gender_concept_id == 8507) %>%\n",
    "    summarise(count = n_distinct(person_id))\n",
    "\n",
    "dbplyr_query"
   ]
  },
  {
   "cell_type": "code",
   "execution_count": null,
   "metadata": {
    "vscode": {
     "languageId": "r"
    }
   },
   "outputs": [],
   "source": [
    "collect(dbplyr_query)"
   ]
  }
 ],
 "metadata": {
  "kernelspec": {
   "display_name": "R",
   "language": "R",
   "name": "ir"
  },
  "language_info": {
   "codemirror_mode": "r",
   "file_extension": ".r",
   "mimetype": "text/x-r-source",
   "name": "R",
   "pygments_lexer": "r",
   "version": "4.1.3"
  }
 },
 "nbformat": 4,
 "nbformat_minor": 4
}
